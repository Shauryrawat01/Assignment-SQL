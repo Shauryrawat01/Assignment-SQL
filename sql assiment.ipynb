{
 "cells": [
  {
   "cell_type": "code",
   "execution_count": 1,
   "id": "a244fe60-5230-479e-9ab4-5f6a358968bd",
   "metadata": {},
   "outputs": [],
   "source": [
    "#Question1\n",
    "#A database is a collection of data that is organized so that it can be easily accessed, managed, and updated\n",
    "#Sql data base is structured data bases and NOsql is unstructured data bases which can store any time of data "
   ]
  },
  {
   "cell_type": "code",
   "execution_count": 2,
   "id": "69a7ef5c-86ac-4dcd-a6ff-7020fa8a84a5",
   "metadata": {},
   "outputs": [
    {
     "ename": "SyntaxError",
     "evalue": "invalid syntax (1373279463.py, line 4)",
     "output_type": "error",
     "traceback": [
      "\u001b[1;36m  Cell \u001b[1;32mIn[2], line 4\u001b[1;36m\u001b[0m\n\u001b[1;33m    CREATE TABLE customers (\u001b[0m\n\u001b[1;37m           ^\u001b[0m\n\u001b[1;31mSyntaxError\u001b[0m\u001b[1;31m:\u001b[0m invalid syntax\n"
     ]
    }
   ],
   "source": [
    "#Question2\n",
    "#DDL stands for Data Definition Language it is a set of SQL statements that \n",
    "#are used to define the structure of a database. DDL statements are used to create, alter, and drop databases, tables, and other database objects.\n",
    "CREATE TABLE customers (\n",
    "  id INT NOT NULL AUTO_INCREMENT,\n",
    "  name VARCHAR(255) NOT NULL,\n",
    "  email VARCHAR(255) NOT NULL,\n",
    "  PRIMARY KEY (id)\n",
    ");\n",
    "DROP TABLE customers;\n",
    "ALTER TABLE customers ADD COLUMN phone_number VARCHAR(255);\n",
    "TRUNCATE TABLE customers;"
   ]
  },
  {
   "cell_type": "code",
   "execution_count": 3,
   "id": "202a4016-7154-460d-9ac8-fe3db0c08a6a",
   "metadata": {},
   "outputs": [],
   "source": [
    "#Question3\n",
    "#DML stands for Data Manipulation Language. It is a set of SQL statements that are used to manipulate the data in a database it is  used to insert, update, and delete rows from tables\n",
    "#INSERT is used to insert a new row into a table\n",
    "#UPDATE is used to update the values of one or more columns in a row\n",
    "#DELETE is used to delete a row from a table"
   ]
  },
  {
   "cell_type": "code",
   "execution_count": 4,
   "id": "ead080e5-8cc9-4c21-a283-b3237e8df053",
   "metadata": {},
   "outputs": [],
   "source": [
    "#Question 4\n",
    "# Data Query Language are used to select, filter, and sort data from tables, as well as to perform other operations such as joining and grouping data\n",
    "#SELECT is used to select data from a table\n",
    "#SELECT * FROM Student"
   ]
  },
  {
   "cell_type": "code",
   "execution_count": 6,
   "id": "13d8550b-faa0-4fae-88e5-179be3ba7664",
   "metadata": {},
   "outputs": [],
   "source": [
    "#Question 5\n",
    "#A primary key is a column  in a table that uniquely identifies each row in the table\n",
    "#A foreign key is a column in a table that refers to the primary key of another table\n",
    "#Primary keys and foreign keys are important concepts in database design they help to ensure the accuracy and consistency of data in a database"
   ]
  },
  {
   "cell_type": "code",
   "execution_count": 7,
   "id": "7eb991d9-b4b9-474a-b2b4-d9853d5f22e0",
   "metadata": {},
   "outputs": [
    {
     "ename": "ModuleNotFoundError",
     "evalue": "No module named 'mysql'",
     "output_type": "error",
     "traceback": [
      "\u001b[1;31m---------------------------------------------------------------------------\u001b[0m",
      "\u001b[1;31mModuleNotFoundError\u001b[0m                       Traceback (most recent call last)",
      "Cell \u001b[1;32mIn[7], line 2\u001b[0m\n\u001b[0;32m      1\u001b[0m \u001b[38;5;66;03m#Question 6\u001b[39;00m\n\u001b[1;32m----> 2\u001b[0m \u001b[38;5;28;01mimport\u001b[39;00m \u001b[38;5;21;01mmysql\u001b[39;00m\u001b[38;5;21;01m.\u001b[39;00m\u001b[38;5;21;01mconnector\u001b[39;00m\n\u001b[0;32m      4\u001b[0m connection \u001b[38;5;241m=\u001b[39m mysql\u001b[38;5;241m.\u001b[39mconnector\u001b[38;5;241m.\u001b[39mconnect(\n\u001b[0;32m      5\u001b[0m     host\u001b[38;5;241m=\u001b[39m\u001b[38;5;124m\"\u001b[39m\u001b[38;5;124mlocalhost\u001b[39m\u001b[38;5;124m\"\u001b[39m,\n\u001b[0;32m      6\u001b[0m     user\u001b[38;5;241m=\u001b[39m\u001b[38;5;124m\"\u001b[39m\u001b[38;5;124mroot\u001b[39m\u001b[38;5;124m\"\u001b[39m,\n\u001b[0;32m      7\u001b[0m     password\u001b[38;5;241m=\u001b[39m\u001b[38;5;124m\"\u001b[39m\u001b[38;5;124m123\u001b[39m\u001b[38;5;124m\"\u001b[39m,\n\u001b[0;32m      8\u001b[0m     database\u001b[38;5;241m=\u001b[39m\u001b[38;5;124m\"\u001b[39m\u001b[38;5;124mmy_database\u001b[39m\u001b[38;5;124m\"\u001b[39m\n\u001b[0;32m      9\u001b[0m )\n\u001b[0;32m     11\u001b[0m cursor \u001b[38;5;241m=\u001b[39m connection\u001b[38;5;241m.\u001b[39mcursor()\n",
      "\u001b[1;31mModuleNotFoundError\u001b[0m: No module named 'mysql'"
     ]
    }
   ],
   "source": [
    "#Question 6\n",
    "import mysql.connector\n",
    "\n",
    "connection = mysql.connector.connect(\n",
    "    host=\"localhost\",\n",
    "    user=\"root\",\n",
    "    password=\"123\",\n",
    "    database=\"my_database\"\n",
    ")\n",
    "\n",
    "cursor = connection.cursor()\n",
    "\n",
    "cursor.execute(\"SELECT * FROM customers\")\n",
    "\n",
    "results = cursor.fetchall()\n",
    "for row in results:\n",
    "    print(row)\n",
    "cursor.close()\n",
    "connection.close()\n",
    "\n",
    "#cursor() method is used to create a cursor object a cursor object is used to execute SQL queries and fetch the results\n",
    "#he execute() method is used to execute a SQL query the execute method takes a SQL query as its argument."
   ]
  },
  {
   "cell_type": "code",
   "execution_count": null,
   "id": "1a1cff49-3d9d-4d79-be6f-7fed21c0151b",
   "metadata": {},
   "outputs": [],
   "source": [
    "#Question 7\n",
    "#The FROM clause must always be the first clause in an SQL query The WHERE, GROUP BY, HAVING, SELECT, ORDER BY, and LIMIT clauses can be in any order,"
   ]
  }
 ],
 "metadata": {
  "kernelspec": {
   "display_name": "Python 3 (ipykernel)",
   "language": "python",
   "name": "python3"
  },
  "language_info": {
   "codemirror_mode": {
    "name": "ipython",
    "version": 3
   },
   "file_extension": ".py",
   "mimetype": "text/x-python",
   "name": "python",
   "nbconvert_exporter": "python",
   "pygments_lexer": "ipython3",
   "version": "3.11.4"
  }
 },
 "nbformat": 4,
 "nbformat_minor": 5
}
